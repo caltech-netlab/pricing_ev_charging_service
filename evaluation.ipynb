{
 "cells": [
  {
   "cell_type": "markdown",
   "metadata": {},
   "source": [
    "# Pricing EV Charging Service with Demand Charge\n",
    "## Zachary Lee, John Pang, Steven Low\n",
    "### Last Updated: 4/18/2020\n",
    "\n",
    "The purpose of this notebook is to plot results for pricing EV charging services with demand charge in both the offline and online domains. "
   ]
  },
  {
   "cell_type": "code",
   "execution_count": 1,
   "metadata": {
    "pycharm": {
     "is_executing": false
    }
   },
   "outputs": [],
   "source": [
    "import numpy as np\n",
    "import pandas as pd\n",
    "import json \n",
    "import pickle\n",
    "from matplotlib import pyplot as plt\n",
    "from pprint import pprint"
   ]
  },
  {
   "cell_type": "markdown",
   "metadata": {},
   "source": [
    "### Plotting Functions"
   ]
  },
  {
   "cell_type": "code",
   "execution_count": 2,
   "metadata": {},
   "outputs": [],
   "source": [
    "from matplotlib import cm\n",
    "\n",
    "def plot_cost_rev_offline(results, ax):\n",
    "    zeros = [0] * results.shape[0]\n",
    "    cmap = cm.get_cmap('tab20')\n",
    "    evse = pd.DataFrame({'Cost': zeros, \n",
    "                         'Revenue': results['revenue.charger_congestion']})\n",
    "    congestion = pd.DataFrame({'Cost': zeros, \n",
    "                         'Revenue': results['revenue.network_congestion']})\n",
    "    energy = results[['costs.energy_cost', 'revenue.energy']]\n",
    "    energy.columns = ['Cost', 'Revenue']\n",
    "    demand = results[['costs.demand_charge', 'revenue.demand_charge']]\n",
    "    demand.columns = ['Cost', 'Revenue']\n",
    "\n",
    "    lw = 0\n",
    "    (energy + demand + congestion + evse).plot.bar(ax=ax, color=[cmap(6), cmap(7)], legend=False, edgecolor='white', linewidth=lw)\n",
    "    (energy + demand + congestion).plot.bar(ax=ax, color=[cmap(4), cmap(5)], legend=False, edgecolor='white', linewidth=lw)\n",
    "    (energy + demand).plot.bar(ax=ax, color=[cmap(2), cmap(3)], legend=False, edgecolor='white', linewidth=lw)\n",
    "    energy.plot.bar(ax=ax, color=[cmap(0), cmap(1)], legend=False, rot=0, edgecolor='white', linewidth=lw)\n",
    "\n",
    "\n",
    "def plot_cost_rev_online(offline_results, online_results, ax):\n",
    "    zeros = [0] * offline_results.shape[0]\n",
    "    cmap = cm.get_cmap('tab20')\n",
    "    evse = pd.DataFrame({'Cost': zeros, \n",
    "                         'Revenue': offline_results['revenue.charger_congestion']})\n",
    "    congestion = pd.DataFrame({'Cost': zeros, \n",
    "                               'Revenue': offline_results['revenue.network_congestion']})\n",
    "    energy = pd.DataFrame({'Cost': online_results['energy_cost'], \n",
    "                         'Revenue': offline_results['revenue.energy']})\n",
    "    demand = pd.DataFrame({'Cost': online_results['demand_charge'], \n",
    "                               'Revenue': offline_results['revenue.demand_charge']})\n",
    "    lw = 0\n",
    "    (energy + demand + congestion + evse).plot.bar(ax=ax, color=[cmap(6), cmap(7)], legend=False, edgecolor='white', linewidth=lw)\n",
    "    (energy + demand + congestion).plot.bar(ax=ax, color=[cmap(4), cmap(5)], legend=False, edgecolor='white', linewidth=lw)\n",
    "    (energy + demand).plot.bar(ax=ax, color=[cmap(2), cmap(3)], legend=False, edgecolor='white', linewidth=lw)\n",
    "    energy.plot.bar(ax=ax, color=[cmap(0), cmap(1)], legend=False, rot=0, edgecolor='white', linewidth=lw)\n",
    "    \n",
    "def plot_cost_rev_online_offline(offline_results, online_results, ax, lw, bw):\n",
    "    zeros = [0] * offline_results.shape[0]\n",
    "    cmap = cm.get_cmap('tab20c')\n",
    "    evse = pd.DataFrame({'Offline Cost': zeros, \n",
    "                         'Online Cost': zeros, \n",
    "                         'Revenue': offline_results['revenue.charger_congestion']})\n",
    "    congestion = pd.DataFrame({'Offline Cost': zeros, \n",
    "                               'Online Cost': zeros, \n",
    "                               'Revenue': offline_results['revenue.network_congestion']})\n",
    "    energy = pd.DataFrame({ 'Offline Cost': offline_results['costs.energy_cost'],\n",
    "                             'Online Cost': online_results['energy_cost'], \n",
    "                             'Revenue': offline_results['revenue.energy']})\n",
    "    demand = pd.DataFrame({ 'Offline Cost': offline_results['costs.demand_charge'],\n",
    "                            'Online Cost': online_results['demand_charge'], \n",
    "                               'Revenue': offline_results['revenue.demand_charge']})\n",
    "    (energy + demand + congestion + evse).plot.bar(ax=ax, color=[cmap(12), cmap(12), cmap(14)], legend=False, edgecolor='white', linewidth=lw, width=bw)\n",
    "    (energy + demand + congestion).plot.bar(ax=ax, color=[cmap(8), cmap(9), cmap(10)], legend=False, edgecolor='white', linewidth=0, width=bw)\n",
    "    (energy + demand).plot.bar(ax=ax, color=[cmap(4), cmap(5), cmap(6)], legend=False, edgecolor='white', linewidth=0, width=bw)\n",
    "    energy.plot.bar(ax=ax, color=[cmap(0), cmap(1), cmap(2)], legend=False, rot=0, edgecolor='white', linewidth=0, width=bw)"
   ]
  },
  {
   "cell_type": "markdown",
   "metadata": {},
   "source": [
    "### Offline Scheduling and Pricing\n",
    "\n",
    "In this experiment we consider prices determined at the end of the month. \n",
    "For scheduling we assume offline perfect information. \n",
    "We consider the cost of the schedule, revenue from users, and surplus for the operator. "
   ]
  },
  {
   "cell_type": "code",
   "execution_count": 4,
   "metadata": {},
   "outputs": [
    {
     "data": {
      "image/png": "[encoded data removed]",
      "text/plain": [
       "<Figure size 288x216 with 2 Axes>"
      ]
     },
     "metadata": {
      "needs_background": "light"
     },
     "output_type": "display_data"
    }
   ],
   "source": [
    "EXPERIMENT_DIR = 'results/offline_prices/'\n",
    "\n",
    "dates = [f'{m}-1-2019' for m in range(1, 9)] \n",
    "sites = ['caltech', 'jpl']\n",
    "tariff_name = 'sce_tou_ev_4_march_2019'\n",
    "\n",
    "data = dict()\n",
    "for site in sites:\n",
    "    data[site] = dict()\n",
    "    for start in dates[:-1]:\n",
    "        path = EXPERIMENT_DIR + f'{tariff_name}/{site}/{start}/'\n",
    "        with open(path + 'agg_rev.json', 'r') as f:\n",
    "            agg_rev = json.load(f)   \n",
    "        with open(path + 'costs.json', 'r') as f:\n",
    "            costs = json.load(f)\n",
    "        data[site][start] = dict()\n",
    "        data[site][start].update({f'revenue.{key}': val for key, val in agg_rev.items()})\n",
    "        data[site][start].update({f'costs.{key}': val for key, val in costs.items()})\n",
    "\n",
    "caltech_offline = pd.DataFrame(data['caltech']).T\n",
    "caltech_offline.index = pd.to_datetime(caltech_offline.index)\n",
    "\n",
    "jpl_offline = pd.DataFrame(data['jpl']).T\n",
    "jpl_offline.index = pd.to_datetime(jpl_offline.index)\n",
    "\n",
    "fig, axes = plt.subplots(2, figsize=(4, 3), sharex=True)\n",
    "plot_cost_rev_offline(caltech_offline, axes[0])\n",
    "plot_cost_rev_offline(jpl_offline, axes[1])\n",
    "\n",
    "axes[1].set_xticklabels([pandas_datetime.strftime(\"%b\\n%Y\") for pandas_datetime in caltech_offline.index])\n",
    "axes[1].set_xlabel('')\n",
    "pass"
   ]
  },
  {
   "cell_type": "code",
   "execution_count": 15,
   "metadata": {},
   "outputs": [],
   "source": [
    "fig.savefig('offline_revenue.pdf', dpi=300)"
   ]
  },
  {
   "cell_type": "markdown",
   "metadata": {},
   "source": [
    "#### Surplus Calculations"
   ]
  },
  {
   "cell_type": "code",
   "execution_count": 5,
   "metadata": {},
   "outputs": [
    {
     "name": "stdout",
     "output_type": "stream",
     "text": [
      "Caltech Operator Surplus (Online)\n",
      "2019-01-01    113.567051\n",
      "2019-02-01     82.188759\n",
      "2019-03-01     64.328461\n",
      "2019-04-01     92.551362\n",
      "2019-05-01     94.686200\n",
      "2019-06-01    164.612724\n",
      "2019-07-01     98.813617\n",
      "dtype: float64\n",
      "101.53545320311397\n"
     ]
    },
    {
     "data": {
      "text/plain": [
       "710.7481724217978"
      ]
     },
     "execution_count": 5,
     "metadata": {},
     "output_type": "execute_result"
    }
   ],
   "source": [
    "print('Caltech Operator Surplus (Online)')\n",
    "caltech_offline_surplus = caltech_offline['revenue.total'] - caltech_offline['costs.total_cost']\n",
    "pprint(caltech_offline_surplus)\n",
    "print(caltech_offline_surplus.mean())\n",
    "sum(caltech_offline_surplus) "
   ]
  },
  {
   "cell_type": "code",
   "execution_count": 6,
   "metadata": {},
   "outputs": [
    {
     "name": "stdout",
     "output_type": "stream",
     "text": [
      "JPL Operator Surplus (Online)\n",
      "2019-01-01    189.973657\n",
      "2019-02-01    266.826705\n",
      "2019-03-01    214.693905\n",
      "2019-04-01    283.910821\n",
      "2019-05-01    249.750063\n",
      "2019-06-01    471.509981\n",
      "2019-07-01    593.738995\n",
      "dtype: float64\n",
      "324.3434466970893\n"
     ]
    },
    {
     "data": {
      "text/plain": [
       "2270.404126879625"
      ]
     },
     "execution_count": 6,
     "metadata": {},
     "output_type": "execute_result"
    }
   ],
   "source": [
    "print('JPL Operator Surplus (Online)')\n",
    "jpl_offline_surplus = jpl_offline['revenue.total'] - jpl_offline['costs.total_cost']\n",
    "pprint(jpl_offline_surplus)\n",
    "print(jpl_offline_surplus.mean())\n",
    "sum(jpl_offline_surplus) "
   ]
  },
  {
   "cell_type": "markdown",
   "metadata": {},
   "source": [
    "#### Variation in Optimal Peaks"
   ]
  },
  {
   "cell_type": "code",
   "execution_count": 46,
   "metadata": {},
   "outputs": [
    {
     "name": "stdout",
     "output_type": "stream",
     "text": [
      "Caltech Variation in Optimal Peaks\n",
      "1/2019: -0.1528\n",
      "2/2019: -0.1441\n",
      "3/2019: 0.0149\n",
      "4/2019: 0.1078\n",
      "5/2019: -0.1616\n",
      "6/2019: -0.0399\n"
     ]
    }
   ],
   "source": [
    "print('Caltech Variation in Optimal Peaks')\n",
    "caltech_peaks = caltech_offline['costs.demand_charge'] / 15.51\n",
    "for i in range(len(caltech_peaks) - 1):\n",
    "    variation = (caltech_peaks[i+1] - caltech_peaks[i]) / caltech_peaks[i]\n",
    "    print(f'{i+1}/2019: {variation:.04f}')"
   ]
  },
  {
   "cell_type": "code",
   "execution_count": 47,
   "metadata": {},
   "outputs": [
    {
     "name": "stdout",
     "output_type": "stream",
     "text": [
      "JPL Variation in Optimal Peaks\n",
      "1/2019: 0.1468\n",
      "2/2019: -0.0676\n",
      "3/2019: 0.1111\n",
      "4/2019: -0.1087\n",
      "5/2019: 0.1683\n",
      "6/2019: 0.1290\n"
     ]
    }
   ],
   "source": [
    "print('JPL Variation in Optimal Peaks')\n",
    "jpl_peaks = jpl_offline['costs.demand_charge'] / 15.51\n",
    "for i in range(len(jpl_peaks) - 1):\n",
    "    variation = (jpl_peaks[i+1] - jpl_peaks[i]) / jpl_peaks[i]\n",
    "    print(f'{i+1}/2019: {variation:.04f}')"
   ]
  },
  {
   "cell_type": "markdown",
   "metadata": {},
   "source": [
    "#### Overall Results"
   ]
  },
  {
   "cell_type": "code",
   "execution_count": 48,
   "metadata": {},
   "outputs": [
    {
     "data": {
      "text/html": [
       "<div>\n",
       "<style scoped>\n",
       "    .dataframe tbody tr th:only-of-type {\n",
       "        vertical-align: middle;\n",
       "    }\n",
       "\n",
       "    .dataframe tbody tr th {\n",
       "        vertical-align: top;\n",
       "    }\n",
       "\n",
       "    .dataframe thead th {\n",
       "        text-align: right;\n",
       "    }\n",
       "</style>\n",
       "<table border=\"1\" class=\"dataframe\">\n",
       "  <thead>\n",
       "    <tr style=\"text-align: right;\">\n",
       "      <th></th>\n",
       "      <th>revenue.energy</th>\n",
       "      <th>revenue.demand_charge</th>\n",
       "      <th>revenue.charger_congestion</th>\n",
       "      <th>revenue.network_congestion</th>\n",
       "      <th>revenue.session_price</th>\n",
       "      <th>revenue.total</th>\n",
       "      <th>revenue.energy_delivered</th>\n",
       "      <th>revenue.energy_requested</th>\n",
       "      <th>costs.energy_cost</th>\n",
       "      <th>costs.demand_charge</th>\n",
       "      <th>costs.total_cost</th>\n",
       "    </tr>\n",
       "  </thead>\n",
       "  <tbody>\n",
       "    <tr>\n",
       "      <th>2019-01-01</th>\n",
       "      <td>757.496018</td>\n",
       "      <td>717.505115</td>\n",
       "      <td>111.694995</td>\n",
       "      <td>1.872056</td>\n",
       "      <td>1588.568183</td>\n",
       "      <td>1588.568183</td>\n",
       "      <td>10205.622126</td>\n",
       "      <td>10205.622126</td>\n",
       "      <td>757.496018</td>\n",
       "      <td>717.505115</td>\n",
       "      <td>1475.001133</td>\n",
       "    </tr>\n",
       "    <tr>\n",
       "      <th>2019-02-01</th>\n",
       "      <td>694.579894</td>\n",
       "      <td>607.877417</td>\n",
       "      <td>77.559089</td>\n",
       "      <td>4.629656</td>\n",
       "      <td>1384.646024</td>\n",
       "      <td>1384.646056</td>\n",
       "      <td>9283.215764</td>\n",
       "      <td>9283.215764</td>\n",
       "      <td>694.579894</td>\n",
       "      <td>607.877403</td>\n",
       "      <td>1302.457297</td>\n",
       "    </tr>\n",
       "    <tr>\n",
       "      <th>2019-03-01</th>\n",
       "      <td>652.728232</td>\n",
       "      <td>520.267875</td>\n",
       "      <td>63.831744</td>\n",
       "      <td>0.496703</td>\n",
       "      <td>1237.324511</td>\n",
       "      <td>1237.324554</td>\n",
       "      <td>8893.327035</td>\n",
       "      <td>8893.327035</td>\n",
       "      <td>652.728232</td>\n",
       "      <td>520.267861</td>\n",
       "      <td>1172.996093</td>\n",
       "    </tr>\n",
       "    <tr>\n",
       "      <th>2019-04-01</th>\n",
       "      <td>652.415147</td>\n",
       "      <td>528.016884</td>\n",
       "      <td>92.199634</td>\n",
       "      <td>0.351728</td>\n",
       "      <td>1272.983393</td>\n",
       "      <td>1272.983393</td>\n",
       "      <td>8791.715754</td>\n",
       "      <td>8791.715754</td>\n",
       "      <td>652.415147</td>\n",
       "      <td>528.016884</td>\n",
       "      <td>1180.432031</td>\n",
       "    </tr>\n",
       "    <tr>\n",
       "      <th>2019-05-01</th>\n",
       "      <td>629.088667</td>\n",
       "      <td>584.919700</td>\n",
       "      <td>93.323995</td>\n",
       "      <td>1.362205</td>\n",
       "      <td>1308.694566</td>\n",
       "      <td>1308.694567</td>\n",
       "      <td>8426.996167</td>\n",
       "      <td>8426.996167</td>\n",
       "      <td>629.088667</td>\n",
       "      <td>584.919700</td>\n",
       "      <td>1214.008367</td>\n",
       "    </tr>\n",
       "    <tr>\n",
       "      <th>2019-06-01</th>\n",
       "      <td>956.866868</td>\n",
       "      <td>490.409285</td>\n",
       "      <td>159.540635</td>\n",
       "      <td>5.072048</td>\n",
       "      <td>1611.888693</td>\n",
       "      <td>1611.888836</td>\n",
       "      <td>7184.088676</td>\n",
       "      <td>7184.088676</td>\n",
       "      <td>956.866868</td>\n",
       "      <td>490.409244</td>\n",
       "      <td>1447.276112</td>\n",
       "    </tr>\n",
       "    <tr>\n",
       "      <th>2019-07-01</th>\n",
       "      <td>875.495215</td>\n",
       "      <td>470.850509</td>\n",
       "      <td>96.881380</td>\n",
       "      <td>1.932237</td>\n",
       "      <td>1445.159340</td>\n",
       "      <td>1445.159340</td>\n",
       "      <td>6603.931656</td>\n",
       "      <td>6603.931656</td>\n",
       "      <td>875.495215</td>\n",
       "      <td>470.850509</td>\n",
       "      <td>1346.345724</td>\n",
       "    </tr>\n",
       "  </tbody>\n",
       "</table>\n",
       "</div>"
      ],
      "text/plain": [
       "            revenue.energy  revenue.demand_charge  revenue.charger_congestion  \\\n",
       "2019-01-01      757.496018             717.505115                  111.694995   \n",
       "2019-02-01      694.579894             607.877417                   77.559089   \n",
       "2019-03-01      652.728232             520.267875                   63.831744   \n",
       "2019-04-01      652.415147             528.016884                   92.199634   \n",
       "2019-05-01      629.088667             584.919700                   93.323995   \n",
       "2019-06-01      956.866868             490.409285                  159.540635   \n",
       "2019-07-01      875.495215             470.850509                   96.881380   \n",
       "\n",
       "            revenue.network_congestion  revenue.session_price  revenue.total  \\\n",
       "2019-01-01                    1.872056            1588.568183    1588.568183   \n",
       "2019-02-01                    4.629656            1384.646024    1384.646056   \n",
       "2019-03-01                    0.496703            1237.324511    1237.324554   \n",
       "2019-04-01                    0.351728            1272.983393    1272.983393   \n",
       "2019-05-01                    1.362205            1308.694566    1308.694567   \n",
       "2019-06-01                    5.072048            1611.888693    1611.888836   \n",
       "2019-07-01                    1.932237            1445.159340    1445.159340   \n",
       "\n",
       "            revenue.energy_delivered  revenue.energy_requested  \\\n",
       "2019-01-01              10205.622126              10205.622126   \n",
       "2019-02-01               9283.215764               9283.215764   \n",
       "2019-03-01               8893.327035               8893.327035   \n",
       "2019-04-01               8791.715754               8791.715754   \n",
       "2019-05-01               8426.996167               8426.996167   \n",
       "2019-06-01               7184.088676               7184.088676   \n",
       "2019-07-01               6603.931656               6603.931656   \n",
       "\n",
       "            costs.energy_cost  costs.demand_charge  costs.total_cost  \n",
       "2019-01-01         757.496018           717.505115       1475.001133  \n",
       "2019-02-01         694.579894           607.877403       1302.457297  \n",
       "2019-03-01         652.728232           520.267861       1172.996093  \n",
       "2019-04-01         652.415147           528.016884       1180.432031  \n",
       "2019-05-01         629.088667           584.919700       1214.008367  \n",
       "2019-06-01         956.866868           490.409244       1447.276112  \n",
       "2019-07-01         875.495215           470.850509       1346.345724  "
      ]
     },
     "execution_count": 48,
     "metadata": {},
     "output_type": "execute_result"
    }
   ],
   "source": [
    "caltech_offline"
   ]
  },
  {
   "cell_type": "code",
   "execution_count": 49,
   "metadata": {},
   "outputs": [
    {
     "data": {
      "text/html": [
       "<div>\n",
       "<style scoped>\n",
       "    .dataframe tbody tr th:only-of-type {\n",
       "        vertical-align: middle;\n",
       "    }\n",
       "\n",
       "    .dataframe tbody tr th {\n",
       "        vertical-align: top;\n",
       "    }\n",
       "\n",
       "    .dataframe thead th {\n",
       "        text-align: right;\n",
       "    }\n",
       "</style>\n",
       "<table border=\"1\" class=\"dataframe\">\n",
       "  <thead>\n",
       "    <tr style=\"text-align: right;\">\n",
       "      <th></th>\n",
       "      <th>revenue.energy</th>\n",
       "      <th>revenue.demand_charge</th>\n",
       "      <th>revenue.charger_congestion</th>\n",
       "      <th>revenue.network_congestion</th>\n",
       "      <th>revenue.session_price</th>\n",
       "      <th>revenue.total</th>\n",
       "      <th>revenue.energy_delivered</th>\n",
       "      <th>revenue.energy_requested</th>\n",
       "      <th>costs.energy_cost</th>\n",
       "      <th>costs.demand_charge</th>\n",
       "      <th>costs.total_cost</th>\n",
       "    </tr>\n",
       "  </thead>\n",
       "  <tbody>\n",
       "    <tr>\n",
       "      <th>2019-01-01</th>\n",
       "      <td>1523.850459</td>\n",
       "      <td>1395.108680</td>\n",
       "      <td>137.869722</td>\n",
       "      <td>52.103935</td>\n",
       "      <td>3108.932796</td>\n",
       "      <td>3108.932796</td>\n",
       "      <td>19757.442467</td>\n",
       "      <td>19757.442467</td>\n",
       "      <td>1523.850459</td>\n",
       "      <td>1395.108680</td>\n",
       "      <td>2918.959139</td>\n",
       "    </tr>\n",
       "    <tr>\n",
       "      <th>2019-02-01</th>\n",
       "      <td>1458.827886</td>\n",
       "      <td>1599.857710</td>\n",
       "      <td>204.728460</td>\n",
       "      <td>62.098245</td>\n",
       "      <td>3325.512300</td>\n",
       "      <td>3325.512301</td>\n",
       "      <td>18976.918200</td>\n",
       "      <td>18976.918200</td>\n",
       "      <td>1458.827886</td>\n",
       "      <td>1599.857709</td>\n",
       "      <td>3058.685596</td>\n",
       "    </tr>\n",
       "    <tr>\n",
       "      <th>2019-03-01</th>\n",
       "      <td>1573.210583</td>\n",
       "      <td>1491.691947</td>\n",
       "      <td>137.252247</td>\n",
       "      <td>77.441658</td>\n",
       "      <td>3279.596435</td>\n",
       "      <td>3279.596435</td>\n",
       "      <td>20819.121100</td>\n",
       "      <td>20819.121100</td>\n",
       "      <td>1573.210583</td>\n",
       "      <td>1491.691947</td>\n",
       "      <td>3064.902530</td>\n",
       "    </tr>\n",
       "    <tr>\n",
       "      <th>2019-04-01</th>\n",
       "      <td>1708.622706</td>\n",
       "      <td>1657.485047</td>\n",
       "      <td>193.924901</td>\n",
       "      <td>89.985918</td>\n",
       "      <td>3650.018571</td>\n",
       "      <td>3650.018573</td>\n",
       "      <td>22336.617600</td>\n",
       "      <td>22336.617600</td>\n",
       "      <td>1708.622706</td>\n",
       "      <td>1657.485046</td>\n",
       "      <td>3366.107752</td>\n",
       "    </tr>\n",
       "    <tr>\n",
       "      <th>2019-05-01</th>\n",
       "      <td>1778.079873</td>\n",
       "      <td>1477.368183</td>\n",
       "      <td>168.273583</td>\n",
       "      <td>81.476478</td>\n",
       "      <td>3505.198112</td>\n",
       "      <td>3505.198117</td>\n",
       "      <td>23126.487943</td>\n",
       "      <td>23126.487943</td>\n",
       "      <td>1778.079873</td>\n",
       "      <td>1477.368181</td>\n",
       "      <td>3255.448054</td>\n",
       "    </tr>\n",
       "    <tr>\n",
       "      <th>2019-06-01</th>\n",
       "      <td>2795.308682</td>\n",
       "      <td>1726.045739</td>\n",
       "      <td>273.477657</td>\n",
       "      <td>198.031430</td>\n",
       "      <td>4992.861812</td>\n",
       "      <td>4992.863508</td>\n",
       "      <td>20033.615510</td>\n",
       "      <td>20033.615520</td>\n",
       "      <td>2795.308682</td>\n",
       "      <td>1726.044845</td>\n",
       "      <td>4521.353527</td>\n",
       "    </tr>\n",
       "    <tr>\n",
       "      <th>2019-07-01</th>\n",
       "      <td>2846.927605</td>\n",
       "      <td>1948.693728</td>\n",
       "      <td>336.070202</td>\n",
       "      <td>257.668792</td>\n",
       "      <td>5389.360327</td>\n",
       "      <td>5389.360328</td>\n",
       "      <td>21415.141325</td>\n",
       "      <td>21415.141325</td>\n",
       "      <td>2846.927605</td>\n",
       "      <td>1948.693728</td>\n",
       "      <td>4795.621333</td>\n",
       "    </tr>\n",
       "  </tbody>\n",
       "</table>\n",
       "</div>"
      ],
      "text/plain": [
       "            revenue.energy  revenue.demand_charge  revenue.charger_congestion  \\\n",
       "2019-01-01     1523.850459            1395.108680                  137.869722   \n",
       "2019-02-01     1458.827886            1599.857710                  204.728460   \n",
       "2019-03-01     1573.210583            1491.691947                  137.252247   \n",
       "2019-04-01     1708.622706            1657.485047                  193.924901   \n",
       "2019-05-01     1778.079873            1477.368183                  168.273583   \n",
       "2019-06-01     2795.308682            1726.045739                  273.477657   \n",
       "2019-07-01     2846.927605            1948.693728                  336.070202   \n",
       "\n",
       "            revenue.network_congestion  revenue.session_price  revenue.total  \\\n",
       "2019-01-01                   52.103935            3108.932796    3108.932796   \n",
       "2019-02-01                   62.098245            3325.512300    3325.512301   \n",
       "2019-03-01                   77.441658            3279.596435    3279.596435   \n",
       "2019-04-01                   89.985918            3650.018571    3650.018573   \n",
       "2019-05-01                   81.476478            3505.198112    3505.198117   \n",
       "2019-06-01                  198.031430            4992.861812    4992.863508   \n",
       "2019-07-01                  257.668792            5389.360327    5389.360328   \n",
       "\n",
       "            revenue.energy_delivered  revenue.energy_requested  \\\n",
       "2019-01-01              19757.442467              19757.442467   \n",
       "2019-02-01              18976.918200              18976.918200   \n",
       "2019-03-01              20819.121100              20819.121100   \n",
       "2019-04-01              22336.617600              22336.617600   \n",
       "2019-05-01              23126.487943              23126.487943   \n",
       "2019-06-01              20033.615510              20033.615520   \n",
       "2019-07-01              21415.141325              21415.141325   \n",
       "\n",
       "            costs.energy_cost  costs.demand_charge  costs.total_cost  \n",
       "2019-01-01        1523.850459          1395.108680       2918.959139  \n",
       "2019-02-01        1458.827886          1599.857709       3058.685596  \n",
       "2019-03-01        1573.210583          1491.691947       3064.902530  \n",
       "2019-04-01        1708.622706          1657.485046       3366.107752  \n",
       "2019-05-01        1778.079873          1477.368181       3255.448054  \n",
       "2019-06-01        2795.308682          1726.044845       4521.353527  \n",
       "2019-07-01        2846.927605          1948.693728       4795.621333  "
      ]
     },
     "execution_count": 49,
     "metadata": {},
     "output_type": "execute_result"
    }
   ],
   "source": [
    "jpl_offline"
   ]
  },
  {
   "cell_type": "markdown",
   "metadata": {},
   "source": [
    "### Online Scheduling and Pricing\n",
    "\n",
    "In this experiment we consider prices determined at the end of the month. \n",
    "For scheduling we assume online with only causal information\n",
    "We consider the cost of the schedule, revenue from users, and surplus for the operator. "
   ]
  },
  {
   "cell_type": "code",
   "execution_count": 50,
   "metadata": {},
   "outputs": [],
   "source": [
    "ONLINE_EXPERIMENT_DIR = 'results/online_cost_minimization-peak_hint-quick_charge_1e-4-max_len_144/'\n",
    "# ONLINE_EXPERIMENT_DIR = 'results/online_cost_minimization-peak_hint-max_len_144/'\n",
    "# ONLINE_EXPERIMENT_DIR = 'results/online_cost_minimization-peak_hint-quick_charge_1e-4-max_len_144/'\n",
    "# ONLINE_EXPERIMENT_DIR = 'results/online_cost_minimization-peak_hint-quick_charge_1e-4-equal_share-1e-7-max_len_144/'\n",
    "\n",
    "\n",
    "online_data = dict()\n",
    "for site in sites:\n",
    "    online_data[site] = dict()\n",
    "    for i in range(len(dates)-1):\n",
    "        start, end = dates[i], dates[i+1]\n",
    "        path = ONLINE_EXPERIMENT_DIR + f'{tariff_name}/{site}/{start}:{end}/'\n",
    "        with open(path + 'metrics.json', 'r') as f:\n",
    "            online_data[site][start] = json.load(f)"
   ]
  },
  {
   "cell_type": "code",
   "execution_count": 51,
   "metadata": {},
   "outputs": [
    {
     "data": {
      "image/png": "[encoded data removed]",
      "text/plain": [
       "<Figure size 288x216 with 2 Axes>"
      ]
     },
     "metadata": {
      "needs_background": "light"
     },
     "output_type": "display_data"
    }
   ],
   "source": [
    "caltech_online = pd.DataFrame(online_data['caltech']).T\n",
    "caltech_online.index = pd.to_datetime(caltech_online.index)\n",
    "\n",
    "\n",
    "jpl_online = pd.DataFrame(online_data['jpl']).T\n",
    "jpl_online.index = pd.to_datetime(jpl_online.index)\n",
    "\n",
    "fig2, axes2 = plt.subplots(2, figsize=(4, 3), sharex=True)\n",
    "plot_cost_rev_online(caltech_offline, caltech_online, axes2[0])\n",
    "plot_cost_rev_online(jpl_offline, jpl_online, axes2[1])\n",
    "\n",
    "axes2[1].set_xticklabels([pandas_datetime.strftime(\"%b\\n%Y\") for pandas_datetime in caltech_offline.index])\n",
    "axes2[1].set_xlabel('')\n",
    "pass"
   ]
  },
  {
   "cell_type": "code",
   "execution_count": 98,
   "metadata": {},
   "outputs": [],
   "source": [
    "fig2.savefig('online_revenue.pdf', dpi=300)"
   ]
  },
  {
   "cell_type": "markdown",
   "metadata": {},
   "source": [
    "#### Online Surpluses\n",
    "\n",
    "Note that unlike the offline case. Online surpluses can be positive or negative. This is because the user prices are calculated based on an offline optimal schedule, while the charging schedules are calculated with only causal information. "
   ]
  },
  {
   "cell_type": "code",
   "execution_count": 52,
   "metadata": {},
   "outputs": [
    {
     "name": "stdout",
     "output_type": "stream",
     "text": [
      "Caltech Operator Surplus (Online)\n",
      "2019-01-01    -13.077074\n",
      "2019-02-01     -3.385319\n",
      "2019-03-01     -9.664305\n",
      "2019-04-01   -105.489877\n",
      "2019-05-01    -37.550737\n",
      "2019-06-01     94.242014\n",
      "2019-07-01    -53.934572\n",
      "dtype: float64\n",
      "-128.8598704524518\n",
      "-0.013083196703229051\n"
     ]
    }
   ],
   "source": [
    "print('Caltech Operator Surplus (Online)')\n",
    "caltech_online_surplus = caltech_offline['revenue.total'] - caltech_online['total_cost']\n",
    "pprint(caltech_online_surplus)\n",
    "print(sum(caltech_online_surplus))\n",
    "print(sum(caltech_online_surplus) / caltech_offline['revenue.total'].sum())"
   ]
  },
  {
   "cell_type": "code",
   "execution_count": 53,
   "metadata": {},
   "outputs": [
    {
     "name": "stdout",
     "output_type": "stream",
     "text": [
      "JPL Operator Surplus (Online)\n",
      "2019-01-01     -6.588354\n",
      "2019-02-01     67.821893\n",
      "2019-03-01    194.843259\n",
      "2019-04-01    -56.339208\n",
      "2019-05-01    -92.935289\n",
      "2019-06-01    186.914510\n",
      "2019-07-01    352.817019\n",
      "dtype: float64\n",
      "646.5338301235065\n",
      "0.023724721788285916\n"
     ]
    }
   ],
   "source": [
    "print('JPL Operator Surplus (Online)')\n",
    "jpl_online_surplus = jpl_offline['revenue.total'] - jpl_online['total_cost']\n",
    "pprint(jpl_online_surplus)\n",
    "sum(jpl_online_surplus) \n",
    "print(sum(jpl_online_surplus))\n",
    "print(sum(jpl_online_surplus) / jpl_offline['revenue.total'].sum())"
   ]
  },
  {
   "cell_type": "code",
   "execution_count": 54,
   "metadata": {},
   "outputs": [
    {
     "name": "stdout",
     "output_type": "stream",
     "text": [
      "Caltech Surcharges\n",
      "2019-01-01   -0.001281\n",
      "2019-02-01   -0.000365\n",
      "2019-03-01   -0.001087\n",
      "2019-04-01   -0.011999\n",
      "2019-05-01   -0.004456\n",
      "2019-06-01    0.013118\n",
      "2019-07-01   -0.008167\n",
      "dtype: float64\n"
     ]
    }
   ],
   "source": [
    "print('Caltech Surcharges')\n",
    "pprint(caltech_online_surplus / caltech_offline['revenue.energy_requested'])"
   ]
  },
  {
   "cell_type": "code",
   "execution_count": 55,
   "metadata": {},
   "outputs": [
    {
     "name": "stdout",
     "output_type": "stream",
     "text": [
      "JPL Surcharges\n",
      "2019-01-01   -0.000333\n",
      "2019-02-01    0.003574\n",
      "2019-03-01    0.009359\n",
      "2019-04-01   -0.002522\n",
      "2019-05-01   -0.004019\n",
      "2019-06-01    0.009330\n",
      "2019-07-01    0.016475\n",
      "dtype: float64\n"
     ]
    }
   ],
   "source": [
    "print('JPL Surcharges')\n",
    "pprint(jpl_online_surplus / jpl_offline['revenue.energy_requested'])"
   ]
  },
  {
   "cell_type": "markdown",
   "metadata": {},
   "source": [
    "#### Optimality Gap\n",
    "\n",
    "Because online scheduling must be done with only causal information, there is almost always a gap between the offline optimal and the cost incurred by the online scheduling algorithm. In our case this gap is on average 10.8% for Caltech and 8.3% for JPL. "
   ]
  },
  {
   "cell_type": "code",
   "execution_count": 62,
   "metadata": {},
   "outputs": [
    {
     "name": "stdout",
     "output_type": "stream",
     "text": [
      "Caltech Percent Difference Offline v. Online\n",
      "2019-01-01    -8.586036\n",
      "2019-02-01    -6.570202\n",
      "2019-03-01    -6.308015\n",
      "2019-04-01   -16.777013\n",
      "2019-05-01   -10.892589\n",
      "2019-06-01    -4.862286\n",
      "2019-07-01   -11.345391\n",
      "dtype: float64\n",
      "\n",
      "Aggregate Percent Difference\n",
      "-0.09187574583598303\n"
     ]
    }
   ],
   "source": [
    "print('Caltech Percent Difference Offline v. Online')\n",
    "percent_diff = ((caltech_offline['costs.total_cost'] - pd.DataFrame(online_data['caltech']).T['total_cost']) / caltech_offline['costs.total_cost'])*100\n",
    "pprint(percent_diff)\n",
    "\n",
    "print()\n",
    "print('Aggregate Percent Difference')\n",
    "print((caltech_offline['costs.total_cost'].sum() - caltech_online['total_cost'].sum())/caltech_offline['costs.total_cost'].sum())"
   ]
  },
  {
   "cell_type": "code",
   "execution_count": 63,
   "metadata": {},
   "outputs": [
    {
     "name": "stdout",
     "output_type": "stream",
     "text": [
      "JPL Percent Difference Offline v. Online\n",
      "2019-01-01    -6.733976\n",
      "2019-02-01    -6.506220\n",
      "2019-03-01    -0.647676\n",
      "2019-04-01   -10.108115\n",
      "2019-05-01   -10.526519\n",
      "2019-06-01    -6.294475\n",
      "2019-07-01    -5.023791\n",
      "dtype: float64\n",
      "\n",
      "Aggregate Percent Difference\n",
      "-0.06500401228846624\n"
     ]
    }
   ],
   "source": [
    "print('JPL Percent Difference Offline v. Online')\n",
    "percent_diff = ((jpl_offline['costs.total_cost'] - jpl_online['total_cost']) / jpl_offline['costs.total_cost'])*100\n",
    "pprint(percent_diff)\n",
    "\n",
    "print()\n",
    "print('Aggregate Percent Difference')\n",
    "print((jpl_offline['costs.total_cost'].sum() - jpl_online['total_cost'].sum())/jpl_offline['costs.total_cost'].sum())"
   ]
  },
  {
   "cell_type": "markdown",
   "metadata": {},
   "source": [
    "#### Overall Online Results"
   ]
  },
  {
   "cell_type": "code",
   "execution_count": 64,
   "metadata": {},
   "outputs": [
    {
     "data": {
      "text/html": [
       "<div>\n",
       "<style scoped>\n",
       "    .dataframe tbody tr th:only-of-type {\n",
       "        vertical-align: middle;\n",
       "    }\n",
       "\n",
       "    .dataframe tbody tr th {\n",
       "        vertical-align: top;\n",
       "    }\n",
       "\n",
       "    .dataframe thead th {\n",
       "        text-align: right;\n",
       "    }\n",
       "</style>\n",
       "<table border=\"1\" class=\"dataframe\">\n",
       "  <thead>\n",
       "    <tr style=\"text-align: right;\">\n",
       "      <th></th>\n",
       "      <th>proportion_delivered</th>\n",
       "      <th>demands_fully_met</th>\n",
       "      <th>peak_current</th>\n",
       "      <th>demand_charge</th>\n",
       "      <th>energy_cost</th>\n",
       "      <th>total_cost</th>\n",
       "    </tr>\n",
       "  </thead>\n",
       "  <tbody>\n",
       "    <tr>\n",
       "      <th>2019-01-01</th>\n",
       "      <td>99.999778</td>\n",
       "      <td>100.0</td>\n",
       "      <td>262.117682</td>\n",
       "      <td>845.612613</td>\n",
       "      <td>756.032645</td>\n",
       "      <td>1601.645258</td>\n",
       "    </tr>\n",
       "    <tr>\n",
       "      <th>2019-02-01</th>\n",
       "      <td>99.999831</td>\n",
       "      <td>100.0</td>\n",
       "      <td>215.800572</td>\n",
       "      <td>696.189910</td>\n",
       "      <td>691.841464</td>\n",
       "      <td>1388.031375</td>\n",
       "    </tr>\n",
       "    <tr>\n",
       "      <th>2019-03-01</th>\n",
       "      <td>99.999793</td>\n",
       "      <td>100.0</td>\n",
       "      <td>184.880884</td>\n",
       "      <td>596.440522</td>\n",
       "      <td>650.548336</td>\n",
       "      <td>1246.988859</td>\n",
       "    </tr>\n",
       "    <tr>\n",
       "      <th>2019-04-01</th>\n",
       "      <td>99.999843</td>\n",
       "      <td>100.0</td>\n",
       "      <td>226.377657</td>\n",
       "      <td>730.312432</td>\n",
       "      <td>648.160838</td>\n",
       "      <td>1378.473270</td>\n",
       "    </tr>\n",
       "    <tr>\n",
       "      <th>2019-05-01</th>\n",
       "      <td>99.999861</td>\n",
       "      <td>100.0</td>\n",
       "      <td>222.566194</td>\n",
       "      <td>718.016347</td>\n",
       "      <td>628.228958</td>\n",
       "      <td>1346.245305</td>\n",
       "    </tr>\n",
       "    <tr>\n",
       "      <th>2019-06-01</th>\n",
       "      <td>99.999882</td>\n",
       "      <td>100.0</td>\n",
       "      <td>179.156141</td>\n",
       "      <td>577.972043</td>\n",
       "      <td>939.674779</td>\n",
       "      <td>1517.646822</td>\n",
       "    </tr>\n",
       "    <tr>\n",
       "      <th>2019-07-01</th>\n",
       "      <td>99.999850</td>\n",
       "      <td>100.0</td>\n",
       "      <td>198.533084</td>\n",
       "      <td>640.483613</td>\n",
       "      <td>858.610299</td>\n",
       "      <td>1499.093912</td>\n",
       "    </tr>\n",
       "  </tbody>\n",
       "</table>\n",
       "</div>"
      ],
      "text/plain": [
       "            proportion_delivered  demands_fully_met  peak_current  \\\n",
       "2019-01-01             99.999778              100.0    262.117682   \n",
       "2019-02-01             99.999831              100.0    215.800572   \n",
       "2019-03-01             99.999793              100.0    184.880884   \n",
       "2019-04-01             99.999843              100.0    226.377657   \n",
       "2019-05-01             99.999861              100.0    222.566194   \n",
       "2019-06-01             99.999882              100.0    179.156141   \n",
       "2019-07-01             99.999850              100.0    198.533084   \n",
       "\n",
       "            demand_charge  energy_cost   total_cost  \n",
       "2019-01-01     845.612613   756.032645  1601.645258  \n",
       "2019-02-01     696.189910   691.841464  1388.031375  \n",
       "2019-03-01     596.440522   650.548336  1246.988859  \n",
       "2019-04-01     730.312432   648.160838  1378.473270  \n",
       "2019-05-01     718.016347   628.228958  1346.245305  \n",
       "2019-06-01     577.972043   939.674779  1517.646822  \n",
       "2019-07-01     640.483613   858.610299  1499.093912  "
      ]
     },
     "execution_count": 64,
     "metadata": {},
     "output_type": "execute_result"
    }
   ],
   "source": [
    "caltech_online"
   ]
  },
  {
   "cell_type": "code",
   "execution_count": 65,
   "metadata": {},
   "outputs": [
    {
     "data": {
      "text/html": [
       "<div>\n",
       "<style scoped>\n",
       "    .dataframe tbody tr th:only-of-type {\n",
       "        vertical-align: middle;\n",
       "    }\n",
       "\n",
       "    .dataframe tbody tr th {\n",
       "        vertical-align: top;\n",
       "    }\n",
       "\n",
       "    .dataframe thead th {\n",
       "        text-align: right;\n",
       "    }\n",
       "</style>\n",
       "<table border=\"1\" class=\"dataframe\">\n",
       "  <thead>\n",
       "    <tr style=\"text-align: right;\">\n",
       "      <th></th>\n",
       "      <th>proportion_delivered</th>\n",
       "      <th>demands_fully_met</th>\n",
       "      <th>peak_current</th>\n",
       "      <th>demand_charge</th>\n",
       "      <th>energy_cost</th>\n",
       "      <th>total_cost</th>\n",
       "    </tr>\n",
       "  </thead>\n",
       "  <tbody>\n",
       "    <tr>\n",
       "      <th>2019-01-01</th>\n",
       "      <td>99.991263</td>\n",
       "      <td>99.562682</td>\n",
       "      <td>498.498131</td>\n",
       "      <td>1608.194850</td>\n",
       "      <td>1507.326300</td>\n",
       "      <td>3115.521150</td>\n",
       "    </tr>\n",
       "    <tr>\n",
       "      <th>2019-02-01</th>\n",
       "      <td>99.982424</td>\n",
       "      <td>99.378882</td>\n",
       "      <td>561.765314</td>\n",
       "      <td>1812.299843</td>\n",
       "      <td>1445.390565</td>\n",
       "      <td>3257.690408</td>\n",
       "    </tr>\n",
       "    <tr>\n",
       "      <th>2019-03-01</th>\n",
       "      <td>99.997338</td>\n",
       "      <td>99.857041</td>\n",
       "      <td>469.290865</td>\n",
       "      <td>1513.969875</td>\n",
       "      <td>1570.783301</td>\n",
       "      <td>3084.753176</td>\n",
       "    </tr>\n",
       "    <tr>\n",
       "      <th>2019-04-01</th>\n",
       "      <td>99.984336</td>\n",
       "      <td>99.606299</td>\n",
       "      <td>621.690478</td>\n",
       "      <td>2005.623218</td>\n",
       "      <td>1700.734564</td>\n",
       "      <td>3706.357781</td>\n",
       "    </tr>\n",
       "    <tr>\n",
       "      <th>2019-05-01</th>\n",
       "      <td>99.988637</td>\n",
       "      <td>99.574209</td>\n",
       "      <td>574.237333</td>\n",
       "      <td>1852.535575</td>\n",
       "      <td>1745.597831</td>\n",
       "      <td>3598.133406</td>\n",
       "    </tr>\n",
       "    <tr>\n",
       "      <th>2019-06-01</th>\n",
       "      <td>99.995401</td>\n",
       "      <td>99.783237</td>\n",
       "      <td>735.528283</td>\n",
       "      <td>2372.873085</td>\n",
       "      <td>2433.075913</td>\n",
       "      <td>4805.948997</td>\n",
       "    </tr>\n",
       "    <tr>\n",
       "      <th>2019-07-01</th>\n",
       "      <td>99.994864</td>\n",
       "      <td>99.731363</td>\n",
       "      <td>736.373518</td>\n",
       "      <td>2375.599878</td>\n",
       "      <td>2660.943430</td>\n",
       "      <td>5036.543308</td>\n",
       "    </tr>\n",
       "  </tbody>\n",
       "</table>\n",
       "</div>"
      ],
      "text/plain": [
       "            proportion_delivered  demands_fully_met  peak_current  \\\n",
       "2019-01-01             99.991263          99.562682    498.498131   \n",
       "2019-02-01             99.982424          99.378882    561.765314   \n",
       "2019-03-01             99.997338          99.857041    469.290865   \n",
       "2019-04-01             99.984336          99.606299    621.690478   \n",
       "2019-05-01             99.988637          99.574209    574.237333   \n",
       "2019-06-01             99.995401          99.783237    735.528283   \n",
       "2019-07-01             99.994864          99.731363    736.373518   \n",
       "\n",
       "            demand_charge  energy_cost   total_cost  \n",
       "2019-01-01    1608.194850  1507.326300  3115.521150  \n",
       "2019-02-01    1812.299843  1445.390565  3257.690408  \n",
       "2019-03-01    1513.969875  1570.783301  3084.753176  \n",
       "2019-04-01    2005.623218  1700.734564  3706.357781  \n",
       "2019-05-01    1852.535575  1745.597831  3598.133406  \n",
       "2019-06-01    2372.873085  2433.075913  4805.948997  \n",
       "2019-07-01    2375.599878  2660.943430  5036.543308  "
      ]
     },
     "execution_count": 65,
     "metadata": {},
     "output_type": "execute_result"
    }
   ],
   "source": [
    "jpl_online"
   ]
  },
  {
   "cell_type": "markdown",
   "metadata": {},
   "source": [
    "## Combined Plot\n",
    "\n",
    "In this plot we should the offline optimal cost (left), online cost (middle), and revenue (right) for each montha nd each site. "
   ]
  },
  {
   "cell_type": "code",
   "execution_count": 66,
   "metadata": {},
   "outputs": [
    {
     "data": {
      "image/png": "[encoded data removed]",
      "text/plain": [
       "<Figure size 288x216 with 2 Axes>"
      ]
     },
     "metadata": {
      "needs_background": "light"
     },
     "output_type": "display_data"
    }
   ],
   "source": [
    "fig3, axes3 = plt.subplots(2, figsize=(4, 3), sharex=True)\n",
    "plot_cost_rev_online_offline(caltech_offline, caltech_online, axes3[0], 0.5, 0.6)\n",
    "plot_cost_rev_online_offline(jpl_offline, jpl_online, axes3[1], 0.5, 0.6)\n",
    "\n",
    "axes3[1].set_xticklabels([pandas_datetime.strftime(\"%b\\n%Y\") for pandas_datetime in caltech_offline.index])\n",
    "axes3[1].set_xlabel('')\n",
    "pass"
   ]
  },
  {
   "cell_type": "markdown",
   "metadata": {},
   "source": [
    "## Pricing Distribution\n",
    "\n",
    "In this section we examine the distribution of prices among sessions and users. While we want to attribute costs, such as demand charges, to those users which cause them, it is not desirable to have some users paying a much higher price per kWh than others. "
   ]
  },
  {
   "cell_type": "code",
   "execution_count": 69,
   "metadata": {},
   "outputs": [],
   "source": [
    "EXPERIMENT_DIR = 'results/offline_prices/'\n",
    "\n",
    "dates = [f'{m}-1-2019' for m in range(1, 9)] \n",
    "sites = ['caltech', 'jpl']\n",
    "tariff_name = 'sce_tou_ev_4_march_2019'\n",
    "\n",
    "data = dict()\n",
    "for site in sites:\n",
    "    data[site] = dict()\n",
    "    for start in dates[:-1]:\n",
    "        path = EXPERIMENT_DIR + f'{tariff_name}/{site}/{start}/'\n",
    "        with open(path + 'session_rev.json', 'r') as f:\n",
    "            data[site][start] = json.load(f)   "
   ]
  },
  {
   "cell_type": "code",
   "execution_count": 70,
   "metadata": {},
   "outputs": [],
   "source": [
    "caltech_sessions = []\n",
    "for start in data['caltech']:\n",
    "    d = pd.DataFrame(data['caltech'][start]).T\n",
    "    d['start'] = start\n",
    "    d['$/kWh'] = d['session_price'] / d['energy_requested']\n",
    "    caltech_sessions.append(d)\n",
    "caltech_sessions = pd.concat(caltech_sessions)"
   ]
  },
  {
   "cell_type": "code",
   "execution_count": 79,
   "metadata": {},
   "outputs": [
    {
     "name": "stdout",
     "output_type": "stream",
     "text": [
      "Max price paid per session: Caltech\n",
      "start\n",
      "1-1-2019    1.629417\n",
      "2-1-2019    1.523208\n",
      "3-1-2019    1.553996\n",
      "4-1-2019    1.395331\n",
      "5-1-2019    1.426369\n",
      "6-1-2019    0.762601\n",
      "7-1-2019    0.751764\n",
      "Name: $/kWh, dtype: float64\n",
      "6579\n"
     ]
    }
   ],
   "source": [
    "print('Max price paid per session: Caltech')\n",
    "pprint(caltech_sessions.groupby('start')['$/kWh'].max())\n",
    "print(len(caltech_sessions))"
   ]
  },
  {
   "cell_type": "code",
   "execution_count": 102,
   "metadata": {},
   "outputs": [
    {
     "data": {
      "text/plain": [
       "<matplotlib.legend.Legend at 0x7fcb6462a5b0>"
      ]
     },
     "execution_count": 102,
     "metadata": {},
     "output_type": "execute_result"
    },
    {
     "data": {
      "image/png": "[encoded data removed]",
      "text/plain": [
       "<Figure size 432x288 with 1 Axes>"
      ]
     },
     "metadata": {
      "needs_background": "light"
     },
     "output_type": "display_data"
    }
   ],
   "source": [
    "fig, ax = plt.subplots()\n",
    "for i in range(1, 8):\n",
    "    caltech_sessions.query(f'start == \"{i}-1-2019\"')['$/kWh'].quantile(np.arange(0, 1, 0.01)).plot(label=i, ax=ax)\n",
    "plt.legend()"
   ]
  },
  {
   "cell_type": "code",
   "execution_count": 103,
   "metadata": {},
   "outputs": [
    {
     "data": {
      "text/plain": [
       "(0.0, 0.3)"
      ]
     },
     "execution_count": 103,
     "metadata": {},
     "output_type": "execute_result"
    },
    {
     "data": {
      "image/png": "[encoded data removed]",
      "text/plain": [
       "<Figure size 432x288 with 1 Axes>"
      ]
     },
     "metadata": {
      "needs_background": "light"
     },
     "output_type": "display_data"
    }
   ],
   "source": [
    "import seaborn as sns\n",
    "p = sns.stripplot(data=caltech_sessions, x='start', y='$/kWh', alpha=0.05, jitter=0.25, size=4)\n",
    "plt.ylim(0, 0.3)"
   ]
  },
  {
   "cell_type": "code",
   "execution_count": 74,
   "metadata": {},
   "outputs": [],
   "source": [
    "jpl_sessions = []\n",
    "for start in data['caltech']:\n",
    "    d = pd.DataFrame(data['jpl'][start]).T\n",
    "    d['start'] = start\n",
    "    d['$/kWh'] = d['session_price'] / d['energy_requested']\n",
    "    jpl_sessions.append(d)\n",
    "jpl_sessions = pd.concat(jpl_sessions)"
   ]
  },
  {
   "cell_type": "code",
   "execution_count": 106,
   "metadata": {},
   "outputs": [
    {
     "name": "stdout",
     "output_type": "stream",
     "text": [
      "Max price paid per session: JPL\n",
      "start\n",
      "1-1-2019    1.492940\n",
      "2-1-2019    1.535782\n",
      "3-1-2019    1.448048\n",
      "4-1-2019    1.482491\n",
      "5-1-2019    1.365029\n",
      "6-1-2019    0.266682\n",
      "7-1-2019    0.266681\n",
      "Name: $/kWh, dtype: float64\n",
      "10100\n"
     ]
    }
   ],
   "source": [
    "print('Max price paid per session: JPL')\n",
    "pprint(jpl_sessions.groupby('start')['$/kWh'].max())\n",
    "print(len(jpl_sessions))"
   ]
  },
  {
   "cell_type": "code",
   "execution_count": 108,
   "metadata": {},
   "outputs": [
    {
     "data": {
      "text/plain": [
       "<matplotlib.legend.Legend at 0x7fcb63c94b80>"
      ]
     },
     "execution_count": 108,
     "metadata": {},
     "output_type": "execute_result"
    },
    {
     "data": {
      "image/png": "[encoded data removed]",
      "text/plain": [
       "<Figure size 432x288 with 1 Axes>"
      ]
     },
     "metadata": {
      "needs_background": "light"
     },
     "output_type": "display_data"
    }
   ],
   "source": [
    "fig, ax = plt.subplots()\n",
    "for i in range(1, 8):\n",
    "    jpl_sessions.query(f'start == \"{i}-1-2019\"')['$/kWh'].quantile(np.arange(0, 1, 0.01)).plot(label=i, ax=ax)\n",
    "plt.legend()"
   ]
  },
  {
   "cell_type": "code",
   "execution_count": 107,
   "metadata": {},
   "outputs": [
    {
     "data": {
      "image/png": "[encoded data removed]",
      "text/plain": [
       "<Figure size 432x288 with 1 Axes>"
      ]
     },
     "metadata": {
      "needs_background": "light"
     },
     "output_type": "display_data"
    }
   ],
   "source": [
    "p = sns.stripplot(data=jpl_sessions, x='start', y='$/kWh', alpha=0.05, jitter=0.25, size=4)"
   ]
  },
  {
   "cell_type": "code",
   "execution_count": 109,
   "metadata": {},
   "outputs": [],
   "source": [
    "with open('sessions_by_user.json', 'r') as f:\n",
    "    sessions_by_user = json.load(f)"
   ]
  },
  {
   "cell_type": "code",
   "execution_count": 110,
   "metadata": {},
   "outputs": [],
   "source": [
    "def blended_price(sessions, sess_by_uid, min_session_count=0):\n",
    "    blended = []\n",
    "    for start in sess_by_uid:\n",
    "        for user, u_sessions in sess_by_uid[start].items():\n",
    "            if len(u_sessions) > min_session_count:\n",
    "                _paid = sessions.T[u_sessions].T['total'].sum()\n",
    "                _energy = sessions.T[u_sessions].T['energy_delivered'].sum()\n",
    "                blended.append({'start': start, 'user': user, '$/kWh': _paid / _energy})\n",
    "    return pd.DataFrame(blended)"
   ]
  },
  {
   "cell_type": "code",
   "execution_count": null,
   "metadata": {},
   "outputs": [],
   "source": [
    "caltech_blended = pd.DataFrame(blended_price(caltech_sessions, sessions_by_user['caltech']))"
   ]
  },
  {
   "cell_type": "code",
   "execution_count": null,
   "metadata": {},
   "outputs": [],
   "source": [
    "p = sns.stripplot(data=caltech_blended, x='start', y='$/kWh', alpha=0.05, jitter=0.25, size=4)"
   ]
  }
 ],
 "metadata": {
  "kernelspec": {
   "display_name": "Python 3",
   "language": "python",
   "name": "python3"
  },
  "language_info": {
   "codemirror_mode": {
    "name": "ipython",
    "version": 3
   },
   "file_extension": ".py",
   "mimetype": "text/x-python",
   "name": "python",
   "nbconvert_exporter": "python",
   "pygments_lexer": "ipython3",
   "version": "3.8.1"
  },
  "pycharm": {
   "stem_cell": {
    "cell_type": "raw",
    "metadata": {
     "collapsed": false
    },
    "source": []
   }
  }
 },
 "nbformat": 4,
 "nbformat_minor": 1
}
